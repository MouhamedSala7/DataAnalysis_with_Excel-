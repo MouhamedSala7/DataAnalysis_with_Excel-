{
  "nbformat": 4,
  "nbformat_minor": 0,
  "metadata": {
    "colab": {
      "provenance": [],
      "authorship_tag": "ABX9TyNVU06TBNHLdYrsLmuKnR3f",
      "include_colab_link": true
    },
    "kernelspec": {
      "name": "python3",
      "display_name": "Python 3"
    },
    "language_info": {
      "name": "python"
    }
  },
  "cells": [
    {
      "cell_type": "markdown",
      "metadata": {
        "id": "view-in-github",
        "colab_type": "text"
      },
      "source": [
        "<a href=\"https://colab.research.google.com/github/MouhamedSala7/DataAnalysis_with_Excel-/blob/main/Pj_Text_sumarry.ipynb\" target=\"_parent\"><img src=\"https://colab.research.google.com/assets/colab-badge.svg\" alt=\"Open In Colab\"/></a>"
      ]
    },
    {
      "cell_type": "code",
      "execution_count": null,
      "metadata": {
        "id": "cRJGGLvP8aFP",
        "colab": {
          "base_uri": "https://localhost:8080/"
        },
        "outputId": "563b026d-2cb8-4229-8db8-a6f7f471ce1e"
      },
      "outputs": [
        {
          "output_type": "stream",
          "name": "stdout",
          "text": [
            "Mounted at /content/drive\n"
          ]
        }
      ],
      "source": [
        "from google.colab import drive\n",
        "drive.mount('/content/drive')"
      ]
    },
    {
      "cell_type": "code",
      "source": [
        "import pandas as pd\n",
        "import numpy as np"
      ],
      "metadata": {
        "id": "iL7q_rbB8kTd"
      },
      "execution_count": null,
      "outputs": []
    },
    {
      "cell_type": "code",
      "source": [
        "import nltk\n",
        "nltk.download('punkt')\n",
        "nltk.download('averaged_perceptron_tagger')\n",
        "nltk.download('wordnet')\n",
        "nltk.download('stopwords')"
      ],
      "metadata": {
        "id": "MqlXNmUe8kZs",
        "colab": {
          "base_uri": "https://localhost:8080/"
        },
        "outputId": "63aad925-3819-4f32-b2ff-1af3d41b1197"
      },
      "execution_count": null,
      "outputs": [
        {
          "output_type": "stream",
          "name": "stderr",
          "text": [
            "[nltk_data] Downloading package punkt to /root/nltk_data...\n",
            "[nltk_data]   Unzipping tokenizers/punkt.zip.\n",
            "[nltk_data] Downloading package averaged_perceptron_tagger to\n",
            "[nltk_data]     /root/nltk_data...\n",
            "[nltk_data]   Unzipping taggers/averaged_perceptron_tagger.zip.\n",
            "[nltk_data] Downloading package wordnet to /root/nltk_data...\n",
            "[nltk_data] Downloading package stopwords to /root/nltk_data...\n",
            "[nltk_data]   Unzipping corpora/stopwords.zip.\n"
          ]
        },
        {
          "output_type": "execute_result",
          "data": {
            "text/plain": [
              "True"
            ]
          },
          "metadata": {},
          "execution_count": 3
        }
      ]
    },
    {
      "cell_type": "code",
      "source": [
        "from nltk.stem import WordNetLemmatizer\n",
        "from nltk.corpus import wordnet\n",
        "from nltk.corpus import stopwords\n",
        "stop_words=stopwords.words(\"english\")\n",
        "lemmatizer = WordNetLemmatizer()"
      ],
      "metadata": {
        "id": "v8rbiyUh8kcf"
      },
      "execution_count": null,
      "outputs": []
    },
    {
      "cell_type": "code",
      "source": [
        "# read text\n",
        "df = pd.read_csv('/content/drive/MyDrive/Text sumariz project/Eng_train.csv', encoding='UTF-8')\n",
        "df.head()"
      ],
      "metadata": {
        "id": "Qkybtpdj8ke4",
        "colab": {
          "base_uri": "https://localhost:8080/",
          "height": 337
        },
        "outputId": "c96b1691-5ccd-4547-e5be-33d8b898db2b"
      },
      "execution_count": null,
      "outputs": [
        {
          "output_type": "execute_result",
          "data": {
            "text/plain": [
              "                                 id  \\\n",
              "0  3938f547c863630032649c54e611e6b0   \n",
              "1  1b336d62e9502c5b91b7afd3c7bcff46   \n",
              "2  082262f1c5a9e1112c39369403ff4e9a   \n",
              "3  82cce3b894007faf93e567d751dd2aef   \n",
              "4  4b3bbf58136527fff41adc6c2f37d73d   \n",
              "\n",
              "                                                Link  \\\n",
              "0  https://www.indiatvnews.com/news/world/russia-...   \n",
              "1  https://www.indiatvnews.com/news/world-author-...   \n",
              "2  https://www.indiatvnews.com/news/world/fumio-k...   \n",
              "3  https://www.indiatvnews.com/news/world/pakista...   \n",
              "4  https://www.indiatvnews.com/news/world/london-...   \n",
              "\n",
              "                                             Heading  \\\n",
              "0  Russia Ukraine War: Mastercard, Visa suspend o...   \n",
              "1  Author-Diplomat Vikas Swarup moved to Delhi as...   \n",
              "2  Japan’s ex-top diplomat Fumio Kishida to becom...   \n",
              "3  Pakistan Sikhs urge India to facilitate access...   \n",
              "4  London knife attack suspect was jailed for 6 y...   \n",
              "\n",
              "                                             Summary  \\\n",
              "0  Since the invasion of Ukraine, the value of th...   \n",
              "1  India on Wednesday banned the pro-Khalistan Si...   \n",
              "2  Kishida replaces outgoing party leader Prime M...   \n",
              "3  Pakistan Sikh Council (PSC) Patron-in-Chief Sa...   \n",
              "4  The Police said the attacker, Usman Khan, was ...   \n",
              "\n",
              "                                             Article  \n",
              "0  Logos for MasterCard and Visa credit cards at ...  \n",
              "1  Author-Diplomat Vikas Swarup moved to Delhi as...  \n",
              "2  Japan’s ex-top diplomat Fumio Kishida to becom...  \n",
              "3  The Sikh community of Pakistan has urged India...  \n",
              "4  Armed police at the scene of an incident on Lo...  "
            ],
            "text/html": [
              "\n",
              "  <div id=\"df-7245fa23-da2e-4ae1-a04a-85d72c3ed977\">\n",
              "    <div class=\"colab-df-container\">\n",
              "      <div>\n",
              "<style scoped>\n",
              "    .dataframe tbody tr th:only-of-type {\n",
              "        vertical-align: middle;\n",
              "    }\n",
              "\n",
              "    .dataframe tbody tr th {\n",
              "        vertical-align: top;\n",
              "    }\n",
              "\n",
              "    .dataframe thead th {\n",
              "        text-align: right;\n",
              "    }\n",
              "</style>\n",
              "<table border=\"1\" class=\"dataframe\">\n",
              "  <thead>\n",
              "    <tr style=\"text-align: right;\">\n",
              "      <th></th>\n",
              "      <th>id</th>\n",
              "      <th>Link</th>\n",
              "      <th>Heading</th>\n",
              "      <th>Summary</th>\n",
              "      <th>Article</th>\n",
              "    </tr>\n",
              "  </thead>\n",
              "  <tbody>\n",
              "    <tr>\n",
              "      <th>0</th>\n",
              "      <td>3938f547c863630032649c54e611e6b0</td>\n",
              "      <td>https://www.indiatvnews.com/news/world/russia-...</td>\n",
              "      <td>Russia Ukraine War: Mastercard, Visa suspend o...</td>\n",
              "      <td>Since the invasion of Ukraine, the value of th...</td>\n",
              "      <td>Logos for MasterCard and Visa credit cards at ...</td>\n",
              "    </tr>\n",
              "    <tr>\n",
              "      <th>1</th>\n",
              "      <td>1b336d62e9502c5b91b7afd3c7bcff46</td>\n",
              "      <td>https://www.indiatvnews.com/news/world-author-...</td>\n",
              "      <td>Author-Diplomat Vikas Swarup moved to Delhi as...</td>\n",
              "      <td>India on Wednesday banned the pro-Khalistan Si...</td>\n",
              "      <td>Author-Diplomat Vikas Swarup moved to Delhi as...</td>\n",
              "    </tr>\n",
              "    <tr>\n",
              "      <th>2</th>\n",
              "      <td>082262f1c5a9e1112c39369403ff4e9a</td>\n",
              "      <td>https://www.indiatvnews.com/news/world/fumio-k...</td>\n",
              "      <td>Japan’s ex-top diplomat Fumio Kishida to becom...</td>\n",
              "      <td>Kishida replaces outgoing party leader Prime M...</td>\n",
              "      <td>Japan’s ex-top diplomat Fumio Kishida to becom...</td>\n",
              "    </tr>\n",
              "    <tr>\n",
              "      <th>3</th>\n",
              "      <td>82cce3b894007faf93e567d751dd2aef</td>\n",
              "      <td>https://www.indiatvnews.com/news/world/pakista...</td>\n",
              "      <td>Pakistan Sikhs urge India to facilitate access...</td>\n",
              "      <td>Pakistan Sikh Council (PSC) Patron-in-Chief Sa...</td>\n",
              "      <td>The Sikh community of Pakistan has urged India...</td>\n",
              "    </tr>\n",
              "    <tr>\n",
              "      <th>4</th>\n",
              "      <td>4b3bbf58136527fff41adc6c2f37d73d</td>\n",
              "      <td>https://www.indiatvnews.com/news/world/london-...</td>\n",
              "      <td>London knife attack suspect was jailed for 6 y...</td>\n",
              "      <td>The Police said the attacker, Usman Khan, was ...</td>\n",
              "      <td>Armed police at the scene of an incident on Lo...</td>\n",
              "    </tr>\n",
              "  </tbody>\n",
              "</table>\n",
              "</div>\n",
              "      <button class=\"colab-df-convert\" onclick=\"convertToInteractive('df-7245fa23-da2e-4ae1-a04a-85d72c3ed977')\"\n",
              "              title=\"Convert this dataframe to an interactive table.\"\n",
              "              style=\"display:none;\">\n",
              "        \n",
              "  <svg xmlns=\"http://www.w3.org/2000/svg\" height=\"24px\"viewBox=\"0 0 24 24\"\n",
              "       width=\"24px\">\n",
              "    <path d=\"M0 0h24v24H0V0z\" fill=\"none\"/>\n",
              "    <path d=\"M18.56 5.44l.94 2.06.94-2.06 2.06-.94-2.06-.94-.94-2.06-.94 2.06-2.06.94zm-11 1L8.5 8.5l.94-2.06 2.06-.94-2.06-.94L8.5 2.5l-.94 2.06-2.06.94zm10 10l.94 2.06.94-2.06 2.06-.94-2.06-.94-.94-2.06-.94 2.06-2.06.94z\"/><path d=\"M17.41 7.96l-1.37-1.37c-.4-.4-.92-.59-1.43-.59-.52 0-1.04.2-1.43.59L10.3 9.45l-7.72 7.72c-.78.78-.78 2.05 0 2.83L4 21.41c.39.39.9.59 1.41.59.51 0 1.02-.2 1.41-.59l7.78-7.78 2.81-2.81c.8-.78.8-2.07 0-2.86zM5.41 20L4 18.59l7.72-7.72 1.47 1.35L5.41 20z\"/>\n",
              "  </svg>\n",
              "      </button>\n",
              "      \n",
              "  <style>\n",
              "    .colab-df-container {\n",
              "      display:flex;\n",
              "      flex-wrap:wrap;\n",
              "      gap: 12px;\n",
              "    }\n",
              "\n",
              "    .colab-df-convert {\n",
              "      background-color: #E8F0FE;\n",
              "      border: none;\n",
              "      border-radius: 50%;\n",
              "      cursor: pointer;\n",
              "      display: none;\n",
              "      fill: #1967D2;\n",
              "      height: 32px;\n",
              "      padding: 0 0 0 0;\n",
              "      width: 32px;\n",
              "    }\n",
              "\n",
              "    .colab-df-convert:hover {\n",
              "      background-color: #E2EBFA;\n",
              "      box-shadow: 0px 1px 2px rgba(60, 64, 67, 0.3), 0px 1px 3px 1px rgba(60, 64, 67, 0.15);\n",
              "      fill: #174EA6;\n",
              "    }\n",
              "\n",
              "    [theme=dark] .colab-df-convert {\n",
              "      background-color: #3B4455;\n",
              "      fill: #D2E3FC;\n",
              "    }\n",
              "\n",
              "    [theme=dark] .colab-df-convert:hover {\n",
              "      background-color: #434B5C;\n",
              "      box-shadow: 0px 1px 3px 1px rgba(0, 0, 0, 0.15);\n",
              "      filter: drop-shadow(0px 1px 2px rgba(0, 0, 0, 0.3));\n",
              "      fill: #FFFFFF;\n",
              "    }\n",
              "  </style>\n",
              "\n",
              "      <script>\n",
              "        const buttonEl =\n",
              "          document.querySelector('#df-7245fa23-da2e-4ae1-a04a-85d72c3ed977 button.colab-df-convert');\n",
              "        buttonEl.style.display =\n",
              "          google.colab.kernel.accessAllowed ? 'block' : 'none';\n",
              "\n",
              "        async function convertToInteractive(key) {\n",
              "          const element = document.querySelector('#df-7245fa23-da2e-4ae1-a04a-85d72c3ed977');\n",
              "          const dataTable =\n",
              "            await google.colab.kernel.invokeFunction('convertToInteractive',\n",
              "                                                     [key], {});\n",
              "          if (!dataTable) return;\n",
              "\n",
              "          const docLinkHtml = 'Like what you see? Visit the ' +\n",
              "            '<a target=\"_blank\" href=https://colab.research.google.com/notebooks/data_table.ipynb>data table notebook</a>'\n",
              "            + ' to learn more about interactive tables.';\n",
              "          element.innerHTML = '';\n",
              "          dataTable['output_type'] = 'display_data';\n",
              "          await google.colab.output.renderOutput(dataTable, element);\n",
              "          const docLink = document.createElement('div');\n",
              "          docLink.innerHTML = docLinkHtml;\n",
              "          element.appendChild(docLink);\n",
              "        }\n",
              "      </script>\n",
              "    </div>\n",
              "  </div>\n",
              "  "
            ]
          },
          "metadata": {},
          "execution_count": 5
        }
      ]
    },
    {
      "cell_type": "code",
      "source": [
        "x = df['Article'][:400]\n",
        "y = df['Summary'][:400]"
      ],
      "metadata": {
        "id": "D6ECGONq8koF"
      },
      "execution_count": null,
      "outputs": []
    },
    {
      "cell_type": "code",
      "source": [
        "x.head()"
      ],
      "metadata": {
        "id": "5YcvwdgW8krW",
        "colab": {
          "base_uri": "https://localhost:8080/"
        },
        "outputId": "327d329e-3cb5-48d8-e382-d56aa5ffff86"
      },
      "execution_count": null,
      "outputs": [
        {
          "output_type": "execute_result",
          "data": {
            "text/plain": [
              "0    Logos for MasterCard and Visa credit cards at ...\n",
              "1    Author-Diplomat Vikas Swarup moved to Delhi as...\n",
              "2    Japan’s ex-top diplomat Fumio Kishida to becom...\n",
              "3    The Sikh community of Pakistan has urged India...\n",
              "4    Armed police at the scene of an incident on Lo...\n",
              "Name: Article, dtype: object"
            ]
          },
          "metadata": {},
          "execution_count": 7
        }
      ]
    },
    {
      "cell_type": "code",
      "source": [
        "y.head()"
      ],
      "metadata": {
        "id": "CMXCXnOQ8kx0",
        "colab": {
          "base_uri": "https://localhost:8080/"
        },
        "outputId": "9f1acdb5-fcef-4786-f4ee-15caa53ef17a"
      },
      "execution_count": null,
      "outputs": [
        {
          "output_type": "execute_result",
          "data": {
            "text/plain": [
              "0    Since the invasion of Ukraine, the value of th...\n",
              "1    India on Wednesday banned the pro-Khalistan Si...\n",
              "2    Kishida replaces outgoing party leader Prime M...\n",
              "3    Pakistan Sikh Council (PSC) Patron-in-Chief Sa...\n",
              "4    The Police said the attacker, Usman Khan, was ...\n",
              "Name: Summary, dtype: object"
            ]
          },
          "metadata": {},
          "execution_count": 8
        }
      ]
    },
    {
      "cell_type": "code",
      "source": [
        "'''def lemmatize_sentence(sentence):\n",
        "  nltk_tagged = nltk.pos_tag(nltk.word_tokenize(sentence))\n",
        "  wordnet_tagged = map(lambda x: (x[0], nltk_tag_to_wordnet_tag(x[1])), nltk_tagged)\n",
        "  lemmatized_sentence =  []\n",
        "  for word, tag in wordnet_tagged:\n",
        "   if word not in stop_words:\n",
        "    if tag is None:\n",
        "       lemmatized_sentence.append(word)\n",
        "    else:\n",
        "       lemmatized_sentence.append(lemmatizer.lemmatize(word, tag))\n",
        "  return \" \".join(lemmatized_sentence)'''"
      ],
      "metadata": {
        "id": "GGpMKNoV87ng",
        "colab": {
          "base_uri": "https://localhost:8080/",
          "height": 73
        },
        "outputId": "aa8b5b91-d954-46e5-8cbd-0e413b7ed159"
      },
      "execution_count": null,
      "outputs": [
        {
          "output_type": "execute_result",
          "data": {
            "text/plain": [
              "'def lemmatize_sentence(sentence):\\n  nltk_tagged = nltk.pos_tag(nltk.word_tokenize(sentence))\\n  wordnet_tagged = map(lambda x: (x[0], nltk_tag_to_wordnet_tag(x[1])), nltk_tagged)\\n  lemmatized_sentence =  []\\n  for word, tag in wordnet_tagged:\\n   if word not in stop_words:\\n    if tag is None:\\n       lemmatized_sentence.append(word)\\n    else:\\n       lemmatized_sentence.append(lemmatizer.lemmatize(word, tag))\\n  return \" \".join(lemmatized_sentence)'"
            ],
            "application/vnd.google.colaboratory.intrinsic+json": {
              "type": "string"
            }
          },
          "metadata": {},
          "execution_count": 9
        }
      ]
    },
    {
      "cell_type": "code",
      "source": [
        "## to number\n",
        "df['Article']=pd.factorize(df['Article'])[0]\n",
        "df['Summary']=pd.factorize(df['Summary'])[0]"
      ],
      "metadata": {
        "id": "gBOGM6Eh87qN"
      },
      "execution_count": null,
      "outputs": []
    },
    {
      "cell_type": "code",
      "source": [
        "x=df['Article']\n",
        "y=df['Summary']"
      ],
      "metadata": {
        "id": "DwzFcmmc87tB"
      },
      "execution_count": null,
      "outputs": []
    },
    {
      "cell_type": "code",
      "source": [
        "print(x)"
      ],
      "metadata": {
        "id": "LPBhnpq_87vu",
        "colab": {
          "base_uri": "https://localhost:8080/"
        },
        "outputId": "ffb71b5f-006e-4b07-9913-14d7b6d780d9"
      },
      "execution_count": null,
      "outputs": [
        {
          "output_type": "stream",
          "name": "stdout",
          "text": [
            "0            0\n",
            "1            1\n",
            "2            2\n",
            "3            3\n",
            "4            4\n",
            "         ...  \n",
            "12560    12544\n",
            "12561    12545\n",
            "12562    12546\n",
            "12563    12547\n",
            "12564    12548\n",
            "Name: Article, Length: 12565, dtype: int64\n"
          ]
        }
      ]
    },
    {
      "cell_type": "code",
      "source": [
        "print(y)"
      ],
      "metadata": {
        "id": "rDD6MOo_87zR",
        "colab": {
          "base_uri": "https://localhost:8080/"
        },
        "outputId": "41ca3fcd-93bc-441e-a32a-fc1513bc223c"
      },
      "execution_count": null,
      "outputs": [
        {
          "output_type": "stream",
          "name": "stdout",
          "text": [
            "0            0\n",
            "1            1\n",
            "2            2\n",
            "3            3\n",
            "4            4\n",
            "         ...  \n",
            "12560    12445\n",
            "12561    12446\n",
            "12562    12447\n",
            "12563    12448\n",
            "12564    12449\n",
            "Name: Summary, Length: 12565, dtype: int64\n"
          ]
        }
      ]
    },
    {
      "cell_type": "code",
      "source": [
        "##\n",
        "x=np.array(x).reshape(-1,1)\n",
        "y=np.array(y).reshape(-1,1)"
      ],
      "metadata": {
        "id": "wb-EHa_C8711"
      },
      "execution_count": null,
      "outputs": []
    },
    {
      "cell_type": "code",
      "source": [
        "print(x.shape)"
      ],
      "metadata": {
        "id": "dhYN6bT58k4m",
        "colab": {
          "base_uri": "https://localhost:8080/"
        },
        "outputId": "abd3db50-89f7-4fcd-8a43-8f69d8036100"
      },
      "execution_count": null,
      "outputs": [
        {
          "output_type": "stream",
          "name": "stdout",
          "text": [
            "(12565, 1)\n"
          ]
        }
      ]
    },
    {
      "cell_type": "code",
      "source": [
        "y.shape"
      ],
      "metadata": {
        "id": "bnh9A_E68k7P",
        "colab": {
          "base_uri": "https://localhost:8080/"
        },
        "outputId": "9b00955c-7d5f-42fb-8bcc-0a3bf6ceefde"
      },
      "execution_count": null,
      "outputs": [
        {
          "output_type": "execute_result",
          "data": {
            "text/plain": [
              "(12565, 1)"
            ]
          },
          "metadata": {},
          "execution_count": 16
        }
      ]
    },
    {
      "cell_type": "code",
      "source": [
        "from  sklearn.model_selection import train_test_split\n",
        "X_train, X_test, y_train, y_test = train_test_split (x, y, test_size=0.3)"
      ],
      "metadata": {
        "id": "GsttBSfy9PvF"
      },
      "execution_count": null,
      "outputs": []
    },
    {
      "cell_type": "code",
      "source": [
        "'''from sklearn.feature_extraction.text   import TfidfVectorizer\n",
        "\n",
        "tfidf=  TfidfVectorizer (encoding= 'latin-1',  ngram_range=(1,2), stop_words= 'english')\n",
        "tfidf=  tfidf.fit(X_cleaned)\n",
        "\n",
        "X_tfidf=tfidf.transform(X_cleaned)\n",
        "\n",
        "X_tfidf.shape'''"
      ],
      "metadata": {
        "id": "vUh04X9_9P28",
        "colab": {
          "base_uri": "https://localhost:8080/",
          "height": 55
        },
        "outputId": "14b77af8-dd0c-4f81-9338-2508562b6ab5"
      },
      "execution_count": null,
      "outputs": [
        {
          "output_type": "execute_result",
          "data": {
            "text/plain": [
              "\"from sklearn.feature_extraction.text   import TfidfVectorizer\\n\\ntfidf=  TfidfVectorizer (encoding= 'latin-1',  ngram_range=(1,2), stop_words= 'english')\\ntfidf=  tfidf.fit(X_cleaned)\\n\\nX_tfidf=tfidf.transform(X_cleaned)\\n\\nX_tfidf.shape\""
            ],
            "application/vnd.google.colaboratory.intrinsic+json": {
              "type": "string"
            }
          },
          "metadata": {},
          "execution_count": 18
        }
      ]
    },
    {
      "cell_type": "markdown",
      "source": [
        "**NOW We Can Use Algorithms** ⛹ ⛹ ⛹ ⛹"
      ],
      "metadata": {
        "id": "ee7EyjBd9aIE"
      }
    },
    {
      "cell_type": "markdown",
      "source": [
        " 1---> Linear Regression() ⛹"
      ],
      "metadata": {
        "id": "3EabfIpH9f1b"
      }
    },
    {
      "cell_type": "code",
      "source": [
        "from sklearn.linear_model import LinearRegression\n",
        "LRl = LinearRegression()\n",
        "LRl.fit(X_train, y_train)"
      ],
      "metadata": {
        "id": "YEpX6epR9g_r",
        "colab": {
          "base_uri": "https://localhost:8080/",
          "height": 75
        },
        "outputId": "cab2ff90-89e2-4e5c-8d77-4422e4b26881"
      },
      "execution_count": null,
      "outputs": [
        {
          "output_type": "execute_result",
          "data": {
            "text/plain": [
              "LinearRegression()"
            ],
            "text/html": [
              "<style>#sk-container-id-1 {color: black;background-color: white;}#sk-container-id-1 pre{padding: 0;}#sk-container-id-1 div.sk-toggleable {background-color: white;}#sk-container-id-1 label.sk-toggleable__label {cursor: pointer;display: block;width: 100%;margin-bottom: 0;padding: 0.3em;box-sizing: border-box;text-align: center;}#sk-container-id-1 label.sk-toggleable__label-arrow:before {content: \"▸\";float: left;margin-right: 0.25em;color: #696969;}#sk-container-id-1 label.sk-toggleable__label-arrow:hover:before {color: black;}#sk-container-id-1 div.sk-estimator:hover label.sk-toggleable__label-arrow:before {color: black;}#sk-container-id-1 div.sk-toggleable__content {max-height: 0;max-width: 0;overflow: hidden;text-align: left;background-color: #f0f8ff;}#sk-container-id-1 div.sk-toggleable__content pre {margin: 0.2em;color: black;border-radius: 0.25em;background-color: #f0f8ff;}#sk-container-id-1 input.sk-toggleable__control:checked~div.sk-toggleable__content {max-height: 200px;max-width: 100%;overflow: auto;}#sk-container-id-1 input.sk-toggleable__control:checked~label.sk-toggleable__label-arrow:before {content: \"▾\";}#sk-container-id-1 div.sk-estimator input.sk-toggleable__control:checked~label.sk-toggleable__label {background-color: #d4ebff;}#sk-container-id-1 div.sk-label input.sk-toggleable__control:checked~label.sk-toggleable__label {background-color: #d4ebff;}#sk-container-id-1 input.sk-hidden--visually {border: 0;clip: rect(1px 1px 1px 1px);clip: rect(1px, 1px, 1px, 1px);height: 1px;margin: -1px;overflow: hidden;padding: 0;position: absolute;width: 1px;}#sk-container-id-1 div.sk-estimator {font-family: monospace;background-color: #f0f8ff;border: 1px dotted black;border-radius: 0.25em;box-sizing: border-box;margin-bottom: 0.5em;}#sk-container-id-1 div.sk-estimator:hover {background-color: #d4ebff;}#sk-container-id-1 div.sk-parallel-item::after {content: \"\";width: 100%;border-bottom: 1px solid gray;flex-grow: 1;}#sk-container-id-1 div.sk-label:hover label.sk-toggleable__label {background-color: #d4ebff;}#sk-container-id-1 div.sk-serial::before {content: \"\";position: absolute;border-left: 1px solid gray;box-sizing: border-box;top: 0;bottom: 0;left: 50%;z-index: 0;}#sk-container-id-1 div.sk-serial {display: flex;flex-direction: column;align-items: center;background-color: white;padding-right: 0.2em;padding-left: 0.2em;position: relative;}#sk-container-id-1 div.sk-item {position: relative;z-index: 1;}#sk-container-id-1 div.sk-parallel {display: flex;align-items: stretch;justify-content: center;background-color: white;position: relative;}#sk-container-id-1 div.sk-item::before, #sk-container-id-1 div.sk-parallel-item::before {content: \"\";position: absolute;border-left: 1px solid gray;box-sizing: border-box;top: 0;bottom: 0;left: 50%;z-index: -1;}#sk-container-id-1 div.sk-parallel-item {display: flex;flex-direction: column;z-index: 1;position: relative;background-color: white;}#sk-container-id-1 div.sk-parallel-item:first-child::after {align-self: flex-end;width: 50%;}#sk-container-id-1 div.sk-parallel-item:last-child::after {align-self: flex-start;width: 50%;}#sk-container-id-1 div.sk-parallel-item:only-child::after {width: 0;}#sk-container-id-1 div.sk-dashed-wrapped {border: 1px dashed gray;margin: 0 0.4em 0.5em 0.4em;box-sizing: border-box;padding-bottom: 0.4em;background-color: white;}#sk-container-id-1 div.sk-label label {font-family: monospace;font-weight: bold;display: inline-block;line-height: 1.2em;}#sk-container-id-1 div.sk-label-container {text-align: center;}#sk-container-id-1 div.sk-container {/* jupyter's `normalize.less` sets `[hidden] { display: none; }` but bootstrap.min.css set `[hidden] { display: none !important; }` so we also need the `!important` here to be able to override the default hidden behavior on the sphinx rendered scikit-learn.org. See: https://github.com/scikit-learn/scikit-learn/issues/21755 */display: inline-block !important;position: relative;}#sk-container-id-1 div.sk-text-repr-fallback {display: none;}</style><div id=\"sk-container-id-1\" class=\"sk-top-container\"><div class=\"sk-text-repr-fallback\"><pre>LinearRegression()</pre><b>In a Jupyter environment, please rerun this cell to show the HTML representation or trust the notebook. <br />On GitHub, the HTML representation is unable to render, please try loading this page with nbviewer.org.</b></div><div class=\"sk-container\" hidden><div class=\"sk-item\"><div class=\"sk-estimator sk-toggleable\"><input class=\"sk-toggleable__control sk-hidden--visually\" id=\"sk-estimator-id-1\" type=\"checkbox\" checked><label for=\"sk-estimator-id-1\" class=\"sk-toggleable__label sk-toggleable__label-arrow\">LinearRegression</label><div class=\"sk-toggleable__content\"><pre>LinearRegression()</pre></div></div></div></div></div>"
            ]
          },
          "metadata": {},
          "execution_count": 19
        }
      ]
    },
    {
      "cell_type": "code",
      "source": [
        "from sklearn.linear_model import LinearRegression\n",
        "\n",
        "LRl = LinearRegression()\n",
        "LRl.fit(X_train, y_train)\n",
        "\n",
        "score = LRl.score(X_test, y_test)\n",
        "print(\"Score:\", score)\n"
      ],
      "metadata": {
        "colab": {
          "base_uri": "https://localhost:8080/"
        },
        "id": "zg_8J153Pr-d",
        "outputId": "03c6fb03-f2af-4ea7-ba2b-4ee872366625"
      },
      "execution_count": null,
      "outputs": [
        {
          "output_type": "stream",
          "name": "stdout",
          "text": [
            "Score: 0.9628147185904926\n"
          ]
        }
      ]
    },
    {
      "cell_type": "code",
      "source": [
        "'''print('LRl Train Score is : ' , LRl.score(X_train, y_train))\n",
        "print('LinearRegressionModel Test Score is : ' , LRl.score(X_test, y_test))'''"
      ],
      "metadata": {
        "id": "rhGzlVdL9maj",
        "colab": {
          "base_uri": "https://localhost:8080/",
          "height": 36
        },
        "outputId": "0a5dd88b-1585-4714-aa58-183c0cbbef75"
      },
      "execution_count": null,
      "outputs": [
        {
          "output_type": "execute_result",
          "data": {
            "text/plain": [
              "\"print('LRl Train Score is : ' , LRl.score(X_train, y_train))\\nprint('LinearRegressionModel Test Score is : ' , LRl.score(X_test, y_test))\""
            ],
            "application/vnd.google.colaboratory.intrinsic+json": {
              "type": "string"
            }
          },
          "metadata": {},
          "execution_count": 21
        }
      ]
    },
    {
      "cell_type": "markdown",
      "source": [
        "2---> LogisticRegression() ⛹"
      ],
      "metadata": {
        "id": "R17rnf6X9oDb"
      }
    },
    {
      "cell_type": "code",
      "source": [
        "from sklearn.linear_model import LogisticRegression\n",
        "regressor = LogisticRegression()\n",
        "modle = regressor.fit(X_train,y_train)"
      ],
      "metadata": {
        "id": "o-WtUNU09rAs",
        "colab": {
          "base_uri": "https://localhost:8080/"
        },
        "outputId": "263b348d-b81b-402c-c642-207bb2257288"
      },
      "execution_count": null,
      "outputs": [
        {
          "output_type": "stream",
          "name": "stderr",
          "text": [
            "/usr/local/lib/python3.10/dist-packages/sklearn/utils/validation.py:1143: DataConversionWarning: A column-vector y was passed when a 1d array was expected. Please change the shape of y to (n_samples, ), for example using ravel().\n",
            "  y = column_or_1d(y, warn=True)\n",
            "/usr/local/lib/python3.10/dist-packages/sklearn/linear_model/_logistic.py:458: ConvergenceWarning: lbfgs failed to converge (status=1):\n",
            "STOP: TOTAL NO. of ITERATIONS REACHED LIMIT.\n",
            "\n",
            "Increase the number of iterations (max_iter) or scale the data as shown in:\n",
            "    https://scikit-learn.org/stable/modules/preprocessing.html\n",
            "Please also refer to the documentation for alternative solver options:\n",
            "    https://scikit-learn.org/stable/modules/linear_model.html#logistic-regression\n",
            "  n_iter_i = _check_optimize_result(\n"
          ]
        }
      ]
    },
    {
      "cell_type": "code",
      "source": [
        "print('LogisticRegression Train Score is : ' , modle.score(X_train, y_train))\n",
        "print('LogisticRegression Test Score is : ' , modle.score(X_test, y_test))"
      ],
      "metadata": {
        "id": "TW0I8tBk9tVN",
        "colab": {
          "base_uri": "https://localhost:8080/"
        },
        "outputId": "ee54e01f-9e4a-4ca5-944d-875dbc9333d3"
      },
      "execution_count": null,
      "outputs": [
        {
          "output_type": "stream",
          "name": "stdout",
          "text": [
            "LogisticRegression Train Score is :  0.003979533826037522\n",
            "LogisticRegression Test Score is :  0.0029177718832891246\n"
          ]
        }
      ]
    },
    {
      "cell_type": "markdown",
      "source": [
        "3 --> DecisionTreeClassifier ⛹"
      ],
      "metadata": {
        "id": "e6jLYmdE9wFz"
      }
    },
    {
      "cell_type": "code",
      "source": [
        "from sklearn.tree import DecisionTreeRegressor\n",
        "clf = DecisionTreeRegressor()\n",
        "modle = clf.fit(X_train,y_train)"
      ],
      "metadata": {
        "id": "f1isNs8t940M"
      },
      "execution_count": null,
      "outputs": []
    },
    {
      "cell_type": "code",
      "source": [
        "print('DecisionTreeClassifier Train Score is : ' , modle.score(X_train, y_train))\n",
        "print('DecisionTreeClassifier Test Score is : ' , modle.score(X_test, y_test))"
      ],
      "metadata": {
        "id": "muDtmqBY98aI",
        "colab": {
          "base_uri": "https://localhost:8080/"
        },
        "outputId": "efe75aae-3f5a-4541-9865-2c99eb824a8b"
      },
      "execution_count": null,
      "outputs": [
        {
          "output_type": "stream",
          "name": "stdout",
          "text": [
            "DecisionTreeClassifier Train Score is :  0.999086715712527\n",
            "DecisionTreeClassifier Test Score is :  0.9290215182408987\n"
          ]
        }
      ]
    },
    {
      "cell_type": "markdown",
      "source": [
        "4 --> Support Vector ⛹"
      ],
      "metadata": {
        "id": "71TtpTtA-Bcr"
      }
    },
    {
      "cell_type": "code",
      "source": [
        "from sklearn.svm import SVR\n",
        "SVRModel = SVR(C = 1.0 ,kernel = 'poly')\n",
        "SVRModel.fit(X_train, y_train)"
      ],
      "metadata": {
        "id": "9dR-vP8uAjDv",
        "colab": {
          "base_uri": "https://localhost:8080/"
        },
        "outputId": "827d5185-3022-4c7c-b2d3-d0d95bc76190"
      },
      "execution_count": null,
      "outputs": [
        {
          "output_type": "stream",
          "name": "stderr",
          "text": [
            "/usr/local/lib/python3.10/dist-packages/sklearn/utils/validation.py:1143: DataConversionWarning: A column-vector y was passed when a 1d array was expected. Please change the shape of y to (n_samples, ), for example using ravel().\n",
            "  y = column_or_1d(y, warn=True)\n"
          ]
        },
        {
          "output_type": "execute_result",
          "data": {
            "text/plain": [
              "SVR(kernel='poly')"
            ],
            "text/html": [
              "<style>#sk-container-id-2 {color: black;background-color: white;}#sk-container-id-2 pre{padding: 0;}#sk-container-id-2 div.sk-toggleable {background-color: white;}#sk-container-id-2 label.sk-toggleable__label {cursor: pointer;display: block;width: 100%;margin-bottom: 0;padding: 0.3em;box-sizing: border-box;text-align: center;}#sk-container-id-2 label.sk-toggleable__label-arrow:before {content: \"▸\";float: left;margin-right: 0.25em;color: #696969;}#sk-container-id-2 label.sk-toggleable__label-arrow:hover:before {color: black;}#sk-container-id-2 div.sk-estimator:hover label.sk-toggleable__label-arrow:before {color: black;}#sk-container-id-2 div.sk-toggleable__content {max-height: 0;max-width: 0;overflow: hidden;text-align: left;background-color: #f0f8ff;}#sk-container-id-2 div.sk-toggleable__content pre {margin: 0.2em;color: black;border-radius: 0.25em;background-color: #f0f8ff;}#sk-container-id-2 input.sk-toggleable__control:checked~div.sk-toggleable__content {max-height: 200px;max-width: 100%;overflow: auto;}#sk-container-id-2 input.sk-toggleable__control:checked~label.sk-toggleable__label-arrow:before {content: \"▾\";}#sk-container-id-2 div.sk-estimator input.sk-toggleable__control:checked~label.sk-toggleable__label {background-color: #d4ebff;}#sk-container-id-2 div.sk-label input.sk-toggleable__control:checked~label.sk-toggleable__label {background-color: #d4ebff;}#sk-container-id-2 input.sk-hidden--visually {border: 0;clip: rect(1px 1px 1px 1px);clip: rect(1px, 1px, 1px, 1px);height: 1px;margin: -1px;overflow: hidden;padding: 0;position: absolute;width: 1px;}#sk-container-id-2 div.sk-estimator {font-family: monospace;background-color: #f0f8ff;border: 1px dotted black;border-radius: 0.25em;box-sizing: border-box;margin-bottom: 0.5em;}#sk-container-id-2 div.sk-estimator:hover {background-color: #d4ebff;}#sk-container-id-2 div.sk-parallel-item::after {content: \"\";width: 100%;border-bottom: 1px solid gray;flex-grow: 1;}#sk-container-id-2 div.sk-label:hover label.sk-toggleable__label {background-color: #d4ebff;}#sk-container-id-2 div.sk-serial::before {content: \"\";position: absolute;border-left: 1px solid gray;box-sizing: border-box;top: 0;bottom: 0;left: 50%;z-index: 0;}#sk-container-id-2 div.sk-serial {display: flex;flex-direction: column;align-items: center;background-color: white;padding-right: 0.2em;padding-left: 0.2em;position: relative;}#sk-container-id-2 div.sk-item {position: relative;z-index: 1;}#sk-container-id-2 div.sk-parallel {display: flex;align-items: stretch;justify-content: center;background-color: white;position: relative;}#sk-container-id-2 div.sk-item::before, #sk-container-id-2 div.sk-parallel-item::before {content: \"\";position: absolute;border-left: 1px solid gray;box-sizing: border-box;top: 0;bottom: 0;left: 50%;z-index: -1;}#sk-container-id-2 div.sk-parallel-item {display: flex;flex-direction: column;z-index: 1;position: relative;background-color: white;}#sk-container-id-2 div.sk-parallel-item:first-child::after {align-self: flex-end;width: 50%;}#sk-container-id-2 div.sk-parallel-item:last-child::after {align-self: flex-start;width: 50%;}#sk-container-id-2 div.sk-parallel-item:only-child::after {width: 0;}#sk-container-id-2 div.sk-dashed-wrapped {border: 1px dashed gray;margin: 0 0.4em 0.5em 0.4em;box-sizing: border-box;padding-bottom: 0.4em;background-color: white;}#sk-container-id-2 div.sk-label label {font-family: monospace;font-weight: bold;display: inline-block;line-height: 1.2em;}#sk-container-id-2 div.sk-label-container {text-align: center;}#sk-container-id-2 div.sk-container {/* jupyter's `normalize.less` sets `[hidden] { display: none; }` but bootstrap.min.css set `[hidden] { display: none !important; }` so we also need the `!important` here to be able to override the default hidden behavior on the sphinx rendered scikit-learn.org. See: https://github.com/scikit-learn/scikit-learn/issues/21755 */display: inline-block !important;position: relative;}#sk-container-id-2 div.sk-text-repr-fallback {display: none;}</style><div id=\"sk-container-id-2\" class=\"sk-top-container\"><div class=\"sk-text-repr-fallback\"><pre>SVR(kernel=&#x27;poly&#x27;)</pre><b>In a Jupyter environment, please rerun this cell to show the HTML representation or trust the notebook. <br />On GitHub, the HTML representation is unable to render, please try loading this page with nbviewer.org.</b></div><div class=\"sk-container\" hidden><div class=\"sk-item\"><div class=\"sk-estimator sk-toggleable\"><input class=\"sk-toggleable__control sk-hidden--visually\" id=\"sk-estimator-id-2\" type=\"checkbox\" checked><label for=\"sk-estimator-id-2\" class=\"sk-toggleable__label sk-toggleable__label-arrow\">SVR</label><div class=\"sk-toggleable__content\"><pre>SVR(kernel=&#x27;poly&#x27;)</pre></div></div></div></div></div>"
            ]
          },
          "metadata": {},
          "execution_count": 26
        }
      ]
    },
    {
      "cell_type": "code",
      "source": [
        "print('Support Vector  Train Score is : ' , SVRModel.score(X_train, y_train))\n",
        "print('Support Vector  Test Score is : ' , SVRModel.score(X_test, y_test))\n"
      ],
      "metadata": {
        "id": "_JUzigRHAi2G",
        "colab": {
          "base_uri": "https://localhost:8080/"
        },
        "outputId": "7eab9367-d979-4032-e17d-67a9a110dc8d"
      },
      "execution_count": null,
      "outputs": [
        {
          "output_type": "stream",
          "name": "stdout",
          "text": [
            "Support Vector  Train Score is :  0.7952809258914705\n",
            "Support Vector  Test Score is :  0.7940847724223051\n"
          ]
        }
      ]
    }
  ]
}